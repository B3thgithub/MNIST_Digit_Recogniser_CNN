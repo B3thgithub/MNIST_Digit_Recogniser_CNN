{
 "cells": [
  {
   "cell_type": "markdown",
   "execution_count": null,
   "metadata": {},
   "source": [
    "# Introduction\n",
    "\n",
    "**My notebook for recognising handwritten digits from the MNIST dataset using a CNN with adaptive learning and callback function to maximise learning.** \n",
    "\n",
    "**Achieves a score 0.995 with 30 epochs - approx 5 min training time with GPU**\n",
    "\n",
    "**1. Data pre-processing:**\n",
    "* Loading data files\n",
    "* Splitting data into train, validation, and test sets\n",
    "* Reshaping dimensions of raw data\n",
    "\n",
    "**2. Digit visualisation:**\n",
    "* Function for plotting training data subfigures with true label\n",
    "\n",
    "**3. Data Processing with Generators:**\n",
    "* Train data generator: Augmentations and normalisation\n",
    "* Validation data generator: Normalisation\n",
    "\n",
    "**4. Defining the model:**\n",
    "* Callback function\n",
    "* Adaptive learning rate\n",
    "* Model architecture\n",
    "* Model compiling\n",
    "\n",
    "**5. Training**\n",
    "* Model Training and validation\n",
    "* Plotting metrics change during training\n",
    "\n",
    "**6. Testing**\n",
    "* Using trained model to make predictions on the test set\n",
    "* Exporting predictions as submission csv file\n"
   ]
  },
  {
   "cell_type": "code",
   "execution_count": 1,
   "metadata": {
    "_cell_guid": "b1076dfc-b9ad-4769-8c92-a6c4dae69d19",
    "_uuid": "8f2839f25d086af736a60e9eeb907d3b93b6e0e5"
   },
   "outputs": [],
   "source": [
    "import tensorflow as tf\n",
    "import pandas as pd\n",
    "import numpy as np\n",
    "import matplotlib.pyplot as plt\n",
    "from keras_preprocessing.image import ImageDataGenerator\n",
    "from keras.layers.normalization import BatchNormalization\n",
    "from keras.callbacks import ReduceLROnPlateau\n",
    "from keras.optimizers import RMSprop"
   ]
  },
  {
   "cell_type": "markdown",
   "execution_count": null,
   "metadata": {},
   "source": [
    "# 1. Data pre-processing:"
   ]
  },
  {
   "cell_type": "code",
   "execution_count": 2,
   "metadata": {
    "_cell_guid": "79c7e3d0-c299-4dcb-8224-4455121ee9b0",
    "_uuid": "d629ff2d2480ee46fbb7e2d37f6b5fab8052498a"
   },
   "outputs": [
    {
     "name": "stdout",
     "output_type": "stream",
     "text": [
      "training: 37800, validation: 4200, testing: 28000\n",
      "dataset shapes; training: (37800, 784), validation: (4200, 784), testing: (28000, 784)\n",
      "dataset dimensions after reshaping; training: (37800, 28, 28, 1), validation: (4200, 28, 28, 1), testing: (28000, 28, 28, 1)\n"
     ]
    }
   ],
   "source": [
    "# Loading data\n",
    "root = \"../input/digit-recognizer/\"\n",
    "data = pd.read_csv(root + \"train.csv\")\n",
    "test = pd.read_csv(root + \"test.csv\")\n",
    "sample_submission = pd.read_csv(root + \"sample_submission.csv\")\n",
    "\n",
    "# Partition the training and validation sets \n",
    "train_split = int(len(data)*0.9)\n",
    "train = data[:train_split]\n",
    "train_labels = train['label'].values.astype('float32')\n",
    "train = train.drop('label', axis=1)\n",
    "valid = data[train_split:]\n",
    "valid_labels = valid['label'].values.astype('float32')\n",
    "valid = valid.drop('label', axis=1)\n",
    "\n",
    "# Reshaping the data to 28x28 images\n",
    "len_train, len_valid, len_test = len(train), len(valid), len(test)\n",
    "shape_train, shape_valid, shape_test = train.shape, valid.shape, test.shape\n",
    "print(\"training: {}, validation: {}, testing: {}\".format(len_train, len_valid, len_test))\n",
    "print(\"dataset shapes; training: {}, validation: {}, testing: {}\".format(shape_train, shape_valid, shape_test))\n",
    "\n",
    "train_data = train.values.reshape(len_train, 28, 28, 1)\n",
    "valid_data = valid.values.reshape(len_valid, 28, 28, 1)\n",
    "test_data = test.values.reshape(len_test, 28, 28, 1)\n",
    "\n",
    "reshape_train, reshape_valid, reshape_test = train_data.shape, valid_data.shape, test_data.shape\n",
    "print(\"dataset dimensions after reshaping; training: {}, validation: {}, testing: {}\".format(reshape_train, reshape_valid, reshape_test))"
   ]
  },
  {
   "cell_type": "markdown",
   "execution_count": null,
   "metadata": {},
   "source": [
    "# **2. Digit visualisation:**"
   ]
  },
  {
   "cell_type": "code",
   "execution_count": 3,
   "metadata": {},
   "outputs": [],
   "source": [
    "# Plots digits\n",
    "def plot_digits(data, labels, num_images, columns=3):\n",
    "    \"\"\" Plots MNIST digits in a subplot with the label of each being its title.\n",
    "\n",
    "    Args:\n",
    "        data: Matrix of dimensions [number of images, height, width, channels]\n",
    "        labels: List of class labels.\n",
    "        num_images: Number of images to be plotted\n",
    "        columns: Number of columns to display in the figure.\n",
    "\n",
    "    \"\"\"\n",
    "    images = data[:num_images]\n",
    "    labels = labels[:num_images]\n",
    "    rows = num_images // columns\n",
    "    rows += num_images % columns\n",
    "    position = range(1, num_images + 1)\n",
    "    \n",
    "    fig = plt.figure(figsize=(8,8))\n",
    "    \n",
    "    for n in range(num_images):\n",
    "        ax = fig.add_subplot(rows, columns, position[n])\n",
    "        ax.imshow(images[n][:, :, 0], cmap = 'Greys')\n",
    "        ax.title.set_text(str(labels[n]))\n",
    "        ax.axes.xaxis.set_visible(False)\n",
    "        ax.axes.yaxis.set_visible(False)\n",
    "        plt.tight_layout()\n",
    "    plt.show()"
   ]
  },
  {
   "cell_type": "code",
   "execution_count": 4,
   "metadata": {},
   "outputs": [
    {
     "data": {
      "image/png": "[encoded data removed]",
      "text/plain": [
       "<Figure size 576x576 with 15 Axes>"
      ]
     },
     "metadata": {
      "needs_background": "light"
     },
     "output_type": "display_data"
    }
   ],
   "source": [
    "plot_digits(train_data, train_labels, 15, columns=5)"
   ]
  },
  {
   "cell_type": "markdown",
   "execution_count": null,
   "metadata": {},
   "source": [
    "# 3. Data Processing with Generators:"
   ]
  },
  {
   "cell_type": "code",
   "execution_count": 5,
   "metadata": {},
   "outputs": [],
   "source": [
    "# Passes train dataset through ImageDataGenerator with normalisation and augmentations\n",
    "train_datagen = ImageDataGenerator(\n",
    "    rescale=1./255,\n",
    "    rotation_range=15,\n",
    "    width_shift_range=0.1,\n",
    "    height_shift_range=0.1,\n",
    "    shear_range=0.1,\n",
    "    zoom_range=0.1,\n",
    "    fill_mode='nearest')\n",
    "\n",
    "train_generator = train_datagen.flow(\n",
    "    train_data,\n",
    "    train_labels,\n",
    "    batch_size=512)\n",
    "\n",
    "# Passes valid dataset through ImageDataGenerator with normalisation \n",
    "valid_datagen = ImageDataGenerator(\n",
    "    rescale=1./255)\n",
    "\n",
    "valid_generator = valid_datagen.flow(\n",
    "    valid_data,\n",
    "    valid_labels,\n",
    "    batch_size=512)"
   ]
  },
  {
   "cell_type": "markdown",
   "execution_count": null,
   "metadata": {},
   "source": [
    "# 4. Defining the model:"
   ]
  },
  {
   "cell_type": "code",
   "execution_count": 6,
   "metadata": {},
   "outputs": [
    {
     "name": "stdout",
     "output_type": "stream",
     "text": [
      "Model: \"sequential\"\n",
      "_________________________________________________________________\n",
      "Layer (type)                 Output Shape              Param #   \n",
      "=================================================================\n",
      "conv2d (Conv2D)              (None, 24, 24, 64)        1664      \n",
      "_________________________________________________________________\n",
      "max_pooling2d (MaxPooling2D) (None, 12, 12, 64)        0         \n",
      "_________________________________________________________________\n",
      "batch_normalization (BatchNo (None, 12, 12, 64)        256       \n",
      "_________________________________________________________________\n",
      "dropout (Dropout)            (None, 12, 12, 64)        0         \n",
      "_________________________________________________________________\n",
      "conv2d_1 (Conv2D)            (None, 10, 10, 128)       73856     \n",
      "_________________________________________________________________\n",
      "max_pooling2d_1 (MaxPooling2 (None, 5, 5, 128)         0         \n",
      "_________________________________________________________________\n",
      "batch_normalization_1 (Batch (None, 5, 5, 128)         512       \n",
      "_________________________________________________________________\n",
      "dropout_1 (Dropout)          (None, 5, 5, 128)         0         \n",
      "_________________________________________________________________\n",
      "flatten (Flatten)            (None, 3200)              0         \n",
      "_________________________________________________________________\n",
      "dense (Dense)                (None, 256)               819456    \n",
      "_________________________________________________________________\n",
      "dropout_2 (Dropout)          (None, 256)               0         \n",
      "_________________________________________________________________\n",
      "dense_1 (Dense)              (None, 10)                2570      \n",
      "=================================================================\n",
      "Total params: 898,314\n",
      "Trainable params: 897,930\n",
      "Non-trainable params: 384\n",
      "_________________________________________________________________\n"
     ]
    }
   ],
   "source": [
    "# Model\n",
    "# Creating a callback to end training before overfitting\n",
    "class MyCallBack(tf.keras.callbacks.Callback):\n",
    "    def on_epoch_end(self, epochs, logs={}):\n",
    "        if logs.get('accuracy') > 0.998:\n",
    "            print(\"Reached accuracy target, training stopped\")\n",
    "            self.model.stop_training = True\n",
    "            \n",
    "# Adaptive learning \n",
    "learning_rate_reduction = ReduceLROnPlateau(monitor='val_accuracy', \n",
    "                                            patience=3, \n",
    "                                            verbose=1, \n",
    "                                            factor=0.5, \n",
    "                                            min_lr=0.00001)\n",
    "\n",
    "# Defining the model\n",
    "call_back = MyCallBack()\n",
    "model = tf.keras.models.Sequential([\n",
    "    # Fist Convolutional Layer\n",
    "    tf.keras.layers.Conv2D(64, (5,5), activation='relu', input_shape=(28, 28, 1)),\n",
    "    tf.keras.layers.MaxPool2D(2,2),\n",
    "    tf.keras.layers.BatchNormalization(),\n",
    "    tf.keras.layers.Dropout(0.2),\n",
    "    # Second Convolutional Layer\n",
    "    tf.keras.layers.Conv2D(128, (3,3), activation='relu'),\n",
    "    tf.keras.layers.MaxPool2D(2,2),\n",
    "    tf.keras.layers.BatchNormalization(),\n",
    "    tf.keras.layers.Dropout(0.2),\n",
    "    # Densely Connected Layers\n",
    "    tf.keras.layers.Flatten(),\n",
    "    tf.keras.layers.Dense(256, activation='relu'),\n",
    "    tf.keras.layers.Dropout(0.2),\n",
    "    tf.keras.layers.Dense(10, activation='softmax')\n",
    "])\n",
    "\n",
    "# Compiling the model and displaying architecture summary\n",
    "model.compile(optimizer='rmsprop', loss='sparse_categorical_crossentropy', metrics=['accuracy'])\n",
    "model.summary()"
   ]
  },
  {
   "cell_type": "markdown",
   "execution_count": null,
   "metadata": {},
   "source": [
    "# 5. Training"
   ]
  },
  {
   "cell_type": "code",
   "execution_count": 7,
   "metadata": {},
   "outputs": [
    {
     "name": "stdout",
     "output_type": "stream",
     "text": [
      "Epoch 1/30\n",
      "74/73 [==============================] - 13s 179ms/step - loss: 0.5696 - accuracy: 0.8446 - val_loss: 3.6758 - val_accuracy: 0.1090 - lr: 0.0010\n",
      "Epoch 2/30\n",
      "74/73 [==============================] - 13s 180ms/step - loss: 0.1488 - accuracy: 0.9550 - val_loss: 4.4624 - val_accuracy: 0.1090 - lr: 0.0010\n",
      "Epoch 3/30\n",
      "74/73 [==============================] - 14s 185ms/step - loss: 0.1092 - accuracy: 0.9663 - val_loss: 4.1521 - val_accuracy: 0.1090 - lr: 0.0010\n",
      "Epoch 4/30\n",
      "74/73 [==============================] - 14s 186ms/step - loss: 0.0958 - accuracy: 0.9714 - val_loss: 3.1517 - val_accuracy: 0.1238 - lr: 0.0010\n",
      "Epoch 5/30\n",
      "74/73 [==============================] - 13s 175ms/step - loss: 0.0765 - accuracy: 0.9767 - val_loss: 1.4844 - val_accuracy: 0.3993 - lr: 0.0010\n",
      "Epoch 6/30\n",
      "74/73 [==============================] - 13s 179ms/step - loss: 0.0757 - accuracy: 0.9788 - val_loss: 0.8932 - val_accuracy: 0.7136 - lr: 0.0010\n",
      "Epoch 7/30\n",
      "74/73 [==============================] - 14s 183ms/step - loss: 0.0653 - accuracy: 0.9809 - val_loss: 0.3356 - val_accuracy: 0.9538 - lr: 0.0010\n",
      "Epoch 8/30\n",
      "74/73 [==============================] - 14s 187ms/step - loss: 0.0636 - accuracy: 0.9816 - val_loss: 0.1294 - val_accuracy: 0.9745 - lr: 0.0010\n",
      "Epoch 9/30\n",
      "74/73 [==============================] - 13s 178ms/step - loss: 0.0590 - accuracy: 0.9826 - val_loss: 0.0547 - val_accuracy: 0.9874 - lr: 0.0010\n",
      "Epoch 10/30\n",
      "74/73 [==============================] - 13s 172ms/step - loss: 0.0571 - accuracy: 0.9836 - val_loss: 0.0354 - val_accuracy: 0.9888 - lr: 0.0010\n",
      "Epoch 11/30\n",
      "74/73 [==============================] - 13s 176ms/step - loss: 0.0532 - accuracy: 0.9840 - val_loss: 0.0337 - val_accuracy: 0.9898 - lr: 0.0010\n",
      "Epoch 12/30\n",
      "74/73 [==============================] - 14s 185ms/step - loss: 0.0508 - accuracy: 0.9853 - val_loss: 0.0378 - val_accuracy: 0.9898 - lr: 0.0010\n",
      "Epoch 13/30\n",
      "74/73 [==============================] - 13s 182ms/step - loss: 0.0473 - accuracy: 0.9855 - val_loss: 0.0456 - val_accuracy: 0.9869 - lr: 0.0010\n",
      "Epoch 14/30\n",
      "74/73 [==============================] - 13s 172ms/step - loss: 0.0491 - accuracy: 0.9860 - val_loss: 0.0265 - val_accuracy: 0.9924 - lr: 0.0010\n",
      "Epoch 15/30\n",
      "74/73 [==============================] - 13s 171ms/step - loss: 0.0468 - accuracy: 0.9861 - val_loss: 0.0264 - val_accuracy: 0.9943 - lr: 0.0010\n",
      "Epoch 16/30\n",
      "74/73 [==============================] - 15s 202ms/step - loss: 0.0435 - accuracy: 0.9868 - val_loss: 0.0248 - val_accuracy: 0.9933 - lr: 0.0010\n",
      "Epoch 17/30\n",
      "74/73 [==============================] - 13s 180ms/step - loss: 0.0440 - accuracy: 0.9869 - val_loss: 0.0252 - val_accuracy: 0.9926 - lr: 0.0010\n",
      "Epoch 18/30\n",
      "74/73 [==============================] - ETA: 0s - loss: 0.0391 - accuracy: 0.9880\n",
      "Epoch 00018: ReduceLROnPlateau reducing learning rate to 0.0005000000237487257.\n",
      "74/73 [==============================] - 13s 172ms/step - loss: 0.0391 - accuracy: 0.9880 - val_loss: 0.0294 - val_accuracy: 0.9910 - lr: 0.0010\n",
      "Epoch 19/30\n",
      "74/73 [==============================] - 12s 168ms/step - loss: 0.0333 - accuracy: 0.9903 - val_loss: 0.0203 - val_accuracy: 0.9948 - lr: 5.0000e-04\n",
      "Epoch 20/30\n",
      "74/73 [==============================] - 13s 171ms/step - loss: 0.0310 - accuracy: 0.9904 - val_loss: 0.0226 - val_accuracy: 0.9955 - lr: 5.0000e-04\n",
      "Epoch 21/30\n",
      "74/73 [==============================] - 13s 178ms/step - loss: 0.0318 - accuracy: 0.9908 - val_loss: 0.0228 - val_accuracy: 0.9948 - lr: 5.0000e-04\n",
      "Epoch 22/30\n",
      "74/73 [==============================] - 12s 169ms/step - loss: 0.0289 - accuracy: 0.9915 - val_loss: 0.0176 - val_accuracy: 0.9960 - lr: 5.0000e-04\n",
      "Epoch 23/30\n",
      "74/73 [==============================] - 12s 169ms/step - loss: 0.0280 - accuracy: 0.9920 - val_loss: 0.0196 - val_accuracy: 0.9955 - lr: 5.0000e-04\n",
      "Epoch 24/30\n",
      "74/73 [==============================] - 13s 170ms/step - loss: 0.0307 - accuracy: 0.9910 - val_loss: 0.0204 - val_accuracy: 0.9940 - lr: 5.0000e-04\n",
      "Epoch 25/30\n",
      "74/73 [==============================] - ETA: 0s - loss: 0.0269 - accuracy: 0.9918\n",
      "Epoch 00025: ReduceLROnPlateau reducing learning rate to 0.0002500000118743628.\n",
      "74/73 [==============================] - 13s 172ms/step - loss: 0.0269 - accuracy: 0.9918 - val_loss: 0.0219 - val_accuracy: 0.9948 - lr: 5.0000e-04\n",
      "Epoch 26/30\n",
      "74/73 [==============================] - 13s 181ms/step - loss: 0.0224 - accuracy: 0.9930 - val_loss: 0.0159 - val_accuracy: 0.9960 - lr: 2.5000e-04\n",
      "Epoch 27/30\n",
      "74/73 [==============================] - 13s 171ms/step - loss: 0.0223 - accuracy: 0.9933 - val_loss: 0.0173 - val_accuracy: 0.9962 - lr: 2.5000e-04\n",
      "Epoch 28/30\n",
      "74/73 [==============================] - 13s 171ms/step - loss: 0.0232 - accuracy: 0.9930 - val_loss: 0.0147 - val_accuracy: 0.9957 - lr: 2.5000e-04\n",
      "Epoch 29/30\n",
      "74/73 [==============================] - 12s 166ms/step - loss: 0.0205 - accuracy: 0.9936 - val_loss: 0.0166 - val_accuracy: 0.9957 - lr: 2.5000e-04\n",
      "Epoch 30/30\n",
      "74/73 [==============================] - ETA: 0s - loss: 0.0208 - accuracy: 0.9940\n",
      "Epoch 00030: ReduceLROnPlateau reducing learning rate to 0.0001250000059371814.\n",
      "74/73 [==============================] - 13s 177ms/step - loss: 0.0208 - accuracy: 0.9940 - val_loss: 0.0167 - val_accuracy: 0.9955 - lr: 2.5000e-04\n"
     ]
    }
   ],
   "source": [
    "# Training\n",
    "history = model.fit(train_generator, steps_per_epoch=len(train_data)/512, epochs=30, validation_data=(valid_generator), validation_steps=len(valid_data)/512, callbacks=[learning_rate_reduction, call_back])\n"
   ]
  },
  {
   "cell_type": "code",
   "execution_count": 8,
   "metadata": {},
   "outputs": [
    {
     "data": {
      "image/png": "[encoded data removed]",
      "text/plain": [
       "<Figure size 1152x576 with 2 Axes>"
      ]
     },
     "metadata": {
      "needs_background": "light"
     },
     "output_type": "display_data"
    }
   ],
   "source": [
    "# Extract metrics\n",
    "acc = history.history['accuracy']\n",
    "val_acc = history.history['val_accuracy']\n",
    "\n",
    "loss = history.history['loss']\n",
    "val_loss = history.history['val_loss']\n",
    "\n",
    "plt.figure(figsize=(16, 8))\n",
    "\n",
    "# Plot accuracy\n",
    "plt.subplot(1, 2, 1)\n",
    "plt.plot(acc, label='Training Accuracy')\n",
    "plt.plot(val_acc, label='Validation Accuracy')\n",
    "plt.legend(loc='lower right', frameon=False, fontsize=12)\n",
    "plt.ylabel('Accuracy', fontsize= 15)\n",
    "plt.ylim([min(plt.ylim()),1])\n",
    "plt.title('Training and Validation Accuracy', fontsize= 20)\n",
    "plt.xlabel('epoch', fontsize= 15)\n",
    "plt.xticks(fontsize=14)\n",
    "plt.yticks(fontsize=14)\n",
    "\n",
    "# Plot loss\n",
    "plt.subplot(1, 2, 2)\n",
    "plt.plot(loss, label='Training Loss')\n",
    "plt.plot(val_loss, label='Validation Loss')\n",
    "plt.legend(loc='upper right', frameon=False, fontsize=12)\n",
    "plt.ylabel('Binary Cross Entropy', fontsize= 15)\n",
    "plt.ylim([0,1.0])\n",
    "plt.title('Training and Validation Loss', fontsize= 20)\n",
    "plt.xlabel('epoch', fontsize= 15)\n",
    "plt.xticks(fontsize=14)\n",
    "plt.yticks(fontsize=14)\n",
    "\n",
    "plt.show()"
   ]
  },
  {
   "cell_type": "markdown",
   "execution_count": null,
   "metadata": {},
   "source": [
    "# 6. Testing"
   ]
  },
  {
   "cell_type": "code",
   "execution_count": 9,
   "metadata": {},
   "outputs": [],
   "source": [
    "# Making predictions on the test set\n",
    "test_data = test_data/255\n",
    "predictions = model.predict(test_data)\n",
    "predictions = np.argmax(predictions, axis=1)\n",
    "sample_submission['Label'] = predictions\n",
    "\n",
    "#Output predictions as csv for competition submission\n",
    "sample_submission.to_csv(\"output.csv\", index=False)"
   ]
  },
  {
   "cell_type": "markdown",
   "execution_count": null,
   "metadata": {},
   "source": [
    "**Achieves a score 0.995 with 30 epochs - approx 5 min training time with GPU**"
   ]
  },
  {
   "cell_type": "code",
   "execution_count": null,
   "metadata": {},
   "outputs": [],
   "source": []
  }
 ],
 "metadata": {
  "kernelspec": {
   "display_name": "Python 3",
   "language": "python",
   "name": "python3"
  },
  "language_info": {
   "codemirror_mode": {
    "name": "ipython",
    "version": 3
   },
   "file_extension": ".py",
   "mimetype": "text/x-python",
   "name": "python",
   "nbconvert_exporter": "python",
   "pygments_lexer": "ipython3",
   "version": "3.7.6"
  }
 },
 "nbformat": 4,
 "nbformat_minor": 4
}
